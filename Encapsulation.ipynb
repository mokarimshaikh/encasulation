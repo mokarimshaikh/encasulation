{
 "cells": [
  {
   "cell_type": "code",
   "execution_count": 1,
   "id": "7710e1bd-ee00-4109-a393-d192ce9e057a",
   "metadata": {},
   "outputs": [],
   "source": [
    "# encapsulation"
   ]
  },
  {
   "cell_type": "code",
   "execution_count": 2,
   "id": "e4b7d661-821e-4929-9251-76f6cf31f634",
   "metadata": {},
   "outputs": [],
   "source": [
    "class test :\n",
    "    def __init__(self , a , b) :\n",
    "        self.a = a\n",
    "        self.b = b"
   ]
  },
  {
   "cell_type": "code",
   "execution_count": 8,
   "id": "f86c88f4-5fb9-4425-be0b-067ce5920fda",
   "metadata": {},
   "outputs": [],
   "source": [
    " t =test(23,34)"
   ]
  },
  {
   "cell_type": "code",
   "execution_count": 9,
   "id": "6501fe03-e5ef-449d-9bcf-bb29cbb19f6c",
   "metadata": {},
   "outputs": [
    {
     "data": {
      "text/plain": [
       "23"
      ]
     },
     "execution_count": 9,
     "metadata": {},
     "output_type": "execute_result"
    }
   ],
   "source": [
    "t.a"
   ]
  },
  {
   "cell_type": "code",
   "execution_count": 10,
   "id": "96d74ca2-ffe0-4b2d-b563-ab5d29c7eab9",
   "metadata": {},
   "outputs": [
    {
     "data": {
      "text/plain": [
       "34"
      ]
     },
     "execution_count": 10,
     "metadata": {},
     "output_type": "execute_result"
    }
   ],
   "source": [
    "t.b"
   ]
  },
  {
   "cell_type": "code",
   "execution_count": 11,
   "id": "49e7e62d-f679-44af-ba95-42729cee53dc",
   "metadata": {},
   "outputs": [],
   "source": [
    "t.b = 3444"
   ]
  },
  {
   "cell_type": "code",
   "execution_count": 12,
   "id": "c8ee1520-049a-430e-9540-05e71808a310",
   "metadata": {},
   "outputs": [
    {
     "data": {
      "text/plain": [
       "3444"
      ]
     },
     "execution_count": 12,
     "metadata": {},
     "output_type": "execute_result"
    }
   ],
   "source": [
    "t.b"
   ]
  },
  {
   "cell_type": "code",
   "execution_count": 13,
   "id": "4fadb36b-8a1d-425f-a958-e8f946946196",
   "metadata": {},
   "outputs": [],
   "source": [
    "# program based on encapsulation"
   ]
  },
  {
   "cell_type": "code",
   "execution_count": 18,
   "id": "f3449fc7-d446-4c50-9434-20f90e224095",
   "metadata": {},
   "outputs": [],
   "source": [
    "class car :\n",
    "    def __init__(self , year , make , model , speed) :\n",
    "        self.__year = year\n",
    "        self.__make = make\n",
    "        self.__model = model\n",
    "        self.__speed = 0\n",
    "    def set_speed(self , speed) :\n",
    "        self.__speed =  0 if speed < 0 else speed\n",
    "    def get_speed(self) :\n",
    "        return self.__speed\n",
    "        \n",
    "        \n",
    "        "
   ]
  },
  {
   "cell_type": "code",
   "execution_count": 19,
   "id": "13fc27ba-556b-4dc5-a4d5-0e74e65520a5",
   "metadata": {},
   "outputs": [],
   "source": [
    "car_details = car( 2021 , \"toyota\" , \"innova\" , 0)"
   ]
  },
  {
   "cell_type": "code",
   "execution_count": 23,
   "id": "c38a9891-77a9-4790-b11e-930fae3b814c",
   "metadata": {},
   "outputs": [],
   "source": [
    "car_details.set_speed(-234)"
   ]
  },
  {
   "cell_type": "code",
   "execution_count": 24,
   "id": "ca872900-e428-4311-a1bd-733e405a8804",
   "metadata": {},
   "outputs": [
    {
     "data": {
      "text/plain": [
       "0"
      ]
     },
     "execution_count": 24,
     "metadata": {},
     "output_type": "execute_result"
    }
   ],
   "source": [
    "car_details.get_speed()"
   ]
  },
  {
   "cell_type": "code",
   "execution_count": 25,
   "id": "f76150f6-a238-4d0f-8b09-e5e0c8efa5e3",
   "metadata": {},
   "outputs": [],
   "source": [
    "car_details.set_speed(234)"
   ]
  },
  {
   "cell_type": "code",
   "execution_count": 26,
   "id": "4505fb21-5c72-48b4-a074-ef5af13fa116",
   "metadata": {},
   "outputs": [
    {
     "data": {
      "text/plain": [
       "234"
      ]
     },
     "execution_count": 26,
     "metadata": {},
     "output_type": "execute_result"
    }
   ],
   "source": [
    "car_details.get_speed()"
   ]
  },
  {
   "cell_type": "code",
   "execution_count": 27,
   "id": "69cac143-d937-4a17-9437-d04058a898ce",
   "metadata": {},
   "outputs": [],
   "source": [
    "# program based on encapsulation"
   ]
  },
  {
   "cell_type": "code",
   "execution_count": 37,
   "id": "a3e9b58d-c724-46f0-896c-a780f69328f5",
   "metadata": {},
   "outputs": [],
   "source": [
    "class bank_account :\n",
    "    def __init__(self , balance) :\n",
    "        self.__balance = balance\n",
    "    def deposit(self , amount) :\n",
    "        self.__balance= self.__balance + amount\n",
    "    def withdraw(self , amount) :\n",
    "        if self.__balance >= amount :\n",
    "            self.__balance = self.__balance - amount\n",
    "            return \"Transaction successful\"\n",
    "        else :\n",
    "            return \"insufficient balance\"\n",
    "    def get_balance(self) :\n",
    "        return self.__balance\n",
    "            "
   ]
  },
  {
   "cell_type": "code",
   "execution_count": 38,
   "id": "c8fa3fef-3c42-4ad4-b870-abd0a4bdd4e0",
   "metadata": {},
   "outputs": [],
   "source": [
    "mokarim = bank_account(1000)"
   ]
  },
  {
   "cell_type": "code",
   "execution_count": 39,
   "id": "54631ebe-5aea-4d32-9251-8616b3376d2c",
   "metadata": {},
   "outputs": [
    {
     "data": {
      "text/plain": [
       "1000"
      ]
     },
     "execution_count": 39,
     "metadata": {},
     "output_type": "execute_result"
    }
   ],
   "source": [
    "mokarim.get_balance()"
   ]
  },
  {
   "cell_type": "code",
   "execution_count": 40,
   "id": "9fef4c23-5ab8-4075-bddf-e19ea3216a86",
   "metadata": {},
   "outputs": [],
   "source": [
    "mokarim.deposit(5000)"
   ]
  },
  {
   "cell_type": "code",
   "execution_count": 41,
   "id": "98d889e4-2d4c-4903-afdb-d97db8179254",
   "metadata": {},
   "outputs": [
    {
     "data": {
      "text/plain": [
       "6000"
      ]
     },
     "execution_count": 41,
     "metadata": {},
     "output_type": "execute_result"
    }
   ],
   "source": [
    "mokarim.get_balance()"
   ]
  },
  {
   "cell_type": "code",
   "execution_count": 42,
   "id": "5d50db33-3179-4985-a5f6-33d76f0f2da0",
   "metadata": {},
   "outputs": [
    {
     "data": {
      "text/plain": [
       "'insufficient balance'"
      ]
     },
     "execution_count": 42,
     "metadata": {},
     "output_type": "execute_result"
    }
   ],
   "source": [
    "mokarim.withdraw(40000)"
   ]
  },
  {
   "cell_type": "code",
   "execution_count": 43,
   "id": "090914d0-445a-4801-ae09-19b170d75f14",
   "metadata": {},
   "outputs": [
    {
     "data": {
      "text/plain": [
       "'Transaction successful'"
      ]
     },
     "execution_count": 43,
     "metadata": {},
     "output_type": "execute_result"
    }
   ],
   "source": [
    "mokarim.withdraw(4000)"
   ]
  },
  {
   "cell_type": "code",
   "execution_count": 44,
   "id": "7f661079-43cf-4b11-b7f9-bba376ec7460",
   "metadata": {},
   "outputs": [
    {
     "data": {
      "text/plain": [
       "2000"
      ]
     },
     "execution_count": 44,
     "metadata": {},
     "output_type": "execute_result"
    }
   ],
   "source": [
    "mokarim.get_balance()"
   ]
  },
  {
   "cell_type": "code",
   "execution_count": 17,
   "id": "9d184746-288e-4038-ac6e-a28a7df7bbd1",
   "metadata": {},
   "outputs": [],
   "source": [
    "class student :\n",
    "    def __init__(self , name , roll_number) :\n",
    "        self.__name = name\n",
    "        self.__roll_number = roll_number\n",
    "        self.__mark = {}\n",
    "        \n",
    "    def add_marks(self , subject , mark) :\n",
    "        self.__mark[subject] = mark\n",
    "        \n",
    "    def get_average_mark(self) :\n",
    "        \n",
    "        if not self.__mark :\n",
    "            return 0.0\n",
    "        total_marks = sum(self.__mark.values())\n",
    "        return total_marks/len(self.__mark)\n",
    "    \n",
    "    def get_student_info(self) :\n",
    "        return \"Student Name : \" , self.__name , \"student roll number : \" , self.__roll_number , \"average marks :\" , self.get_average_mark()\n",
    "        \n",
    "        \n",
    "        \n",
    "        \n",
    "    "
   ]
  },
  {
   "cell_type": "code",
   "execution_count": 18,
   "id": "db474f31-18c7-41a3-8b70-1a17f98d6f39",
   "metadata": {},
   "outputs": [],
   "source": [
    "student1 = student(\"abdul_mokarim\" , 101 )"
   ]
  },
  {
   "cell_type": "code",
   "execution_count": 19,
   "id": "95bbd533-0d57-44e4-b70e-9189768905b2",
   "metadata": {},
   "outputs": [],
   "source": [
    "student1.add_marks(\"english\" , 67 )"
   ]
  },
  {
   "cell_type": "code",
   "execution_count": 20,
   "id": "4da27aed-877b-443b-b132-af4bc063ecb7",
   "metadata": {},
   "outputs": [],
   "source": [
    "student1.add_marks(\"hindi\" , 98)"
   ]
  },
  {
   "cell_type": "code",
   "execution_count": 21,
   "id": "7702bd57-4f96-4bb9-991c-da8f8890c9fb",
   "metadata": {},
   "outputs": [],
   "source": [
    "student1.add_marks(\"math\" , 90)"
   ]
  },
  {
   "cell_type": "code",
   "execution_count": 22,
   "id": "b506a078-7643-41df-a7d8-4cea2131069f",
   "metadata": {},
   "outputs": [
    {
     "data": {
      "text/plain": [
       "85.0"
      ]
     },
     "execution_count": 22,
     "metadata": {},
     "output_type": "execute_result"
    }
   ],
   "source": [
    "student1.get_average_mark()"
   ]
  },
  {
   "cell_type": "code",
   "execution_count": 23,
   "id": "c41a611d-da27-453e-950e-57ef84c47982",
   "metadata": {},
   "outputs": [
    {
     "data": {
      "text/plain": [
       "('Student Name : ',\n",
       " 'abdul_mokarim',\n",
       " 'student roll number : ',\n",
       " 101,\n",
       " 'average marks :',\n",
       " 85.0)"
      ]
     },
     "execution_count": 23,
     "metadata": {},
     "output_type": "execute_result"
    }
   ],
   "source": [
    "student1.get_student_info()"
   ]
  },
  {
   "cell_type": "code",
   "execution_count": null,
   "id": "f6b953ff-915c-49ac-9564-c6f7faad4006",
   "metadata": {},
   "outputs": [],
   "source": []
  }
 ],
 "metadata": {
  "kernelspec": {
   "display_name": "Python 3 (ipykernel)",
   "language": "python",
   "name": "python3"
  },
  "language_info": {
   "codemirror_mode": {
    "name": "ipython",
    "version": 3
   },
   "file_extension": ".py",
   "mimetype": "text/x-python",
   "name": "python",
   "nbconvert_exporter": "python",
   "pygments_lexer": "ipython3",
   "version": "3.10.8"
  }
 },
 "nbformat": 4,
 "nbformat_minor": 5
}
